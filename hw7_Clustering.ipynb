{
 "cells": [
  {
   "cell_type": "markdown",
   "id": "08cf2f08-8edc-4375-8dc5-14232e3c31af",
   "metadata": {},
   "source": [
    "### HW 8 - Clustering\n",
    "#### Shifa Shah\n",
    "#### ss08336@st.habib.edu.pk"
   ]
  },
  {
   "cell_type": "code",
   "execution_count": 1,
   "id": "678f1310",
   "metadata": {},
   "outputs": [],
   "source": [
    "import os\n",
    "os.environ[\"OMP_NUM_THREADS\"] = '1'\n",
    "import numpy as np\n",
    "import pandas as pd\n",
    "import matplotlib.pyplot as plt \n",
    "import seaborn as sns\n",
    "from sklearn.cluster import KMeans \n",
    "from sklearn.metrics import silhouette_score\n",
    "from sklearn.preprocessing import MinMaxScaler"
   ]
  },
  {
   "cell_type": "code",
   "execution_count": 2,
   "id": "46b950c3",
   "metadata": {},
   "outputs": [
    {
     "data": {
      "text/html": [
       "<div>\n",
       "<style scoped>\n",
       "    .dataframe tbody tr th:only-of-type {\n",
       "        vertical-align: middle;\n",
       "    }\n",
       "\n",
       "    .dataframe tbody tr th {\n",
       "        vertical-align: top;\n",
       "    }\n",
       "\n",
       "    .dataframe thead th {\n",
       "        text-align: right;\n",
       "    }\n",
       "</style>\n",
       "<table border=\"1\" class=\"dataframe\">\n",
       "  <thead>\n",
       "    <tr style=\"text-align: right;\">\n",
       "      <th></th>\n",
       "      <th>Flavour</th>\n",
       "      <th>Calories</th>\n",
       "      <th>Total Fat (g)</th>\n",
       "      <th>Trans Fat (g)</th>\n",
       "      <th>Carbohydrates (g)</th>\n",
       "      <th>Sugars (g)</th>\n",
       "      <th>Protein (g)</th>\n",
       "      <th>Category</th>\n",
       "    </tr>\n",
       "  </thead>\n",
       "  <tbody>\n",
       "    <tr>\n",
       "      <th>0</th>\n",
       "      <td>Bananas Foster</td>\n",
       "      <td>160</td>\n",
       "      <td>8.0</td>\n",
       "      <td>0.2</td>\n",
       "      <td>20</td>\n",
       "      <td>16</td>\n",
       "      <td>2.0</td>\n",
       "      <td>std</td>\n",
       "    </tr>\n",
       "    <tr>\n",
       "      <th>1</th>\n",
       "      <td>Baseball Nut</td>\n",
       "      <td>160</td>\n",
       "      <td>9.0</td>\n",
       "      <td>0.2</td>\n",
       "      <td>19</td>\n",
       "      <td>13</td>\n",
       "      <td>3.0</td>\n",
       "      <td>std</td>\n",
       "    </tr>\n",
       "    <tr>\n",
       "      <th>2</th>\n",
       "      <td>Beavertails Pastry</td>\n",
       "      <td>170</td>\n",
       "      <td>9.0</td>\n",
       "      <td>0.3</td>\n",
       "      <td>21</td>\n",
       "      <td>15</td>\n",
       "      <td>3.0</td>\n",
       "      <td>std</td>\n",
       "    </tr>\n",
       "    <tr>\n",
       "      <th>3</th>\n",
       "      <td>Blackberry Frozen Yogurt</td>\n",
       "      <td>120</td>\n",
       "      <td>4.0</td>\n",
       "      <td>0.1</td>\n",
       "      <td>17</td>\n",
       "      <td>16</td>\n",
       "      <td>3.0</td>\n",
       "      <td>std</td>\n",
       "    </tr>\n",
       "    <tr>\n",
       "      <th>4</th>\n",
       "      <td>Blue Raspberry Sherbet</td>\n",
       "      <td>130</td>\n",
       "      <td>2.0</td>\n",
       "      <td>0.1</td>\n",
       "      <td>26</td>\n",
       "      <td>20</td>\n",
       "      <td>2.0</td>\n",
       "      <td>light</td>\n",
       "    </tr>\n",
       "  </tbody>\n",
       "</table>\n",
       "</div>"
      ],
      "text/plain": [
       "                    Flavour  Calories  Total Fat (g)  Trans Fat (g)  \\\n",
       "0            Bananas Foster       160            8.0            0.2   \n",
       "1              Baseball Nut       160            9.0            0.2   \n",
       "2        Beavertails Pastry       170            9.0            0.3   \n",
       "3  Blackberry Frozen Yogurt       120            4.0            0.1   \n",
       "4    Blue Raspberry Sherbet       130            2.0            0.1   \n",
       "\n",
       "   Carbohydrates (g)  Sugars (g)  Protein (g) Category  \n",
       "0                 20          16          2.0      std  \n",
       "1                 19          13          3.0      std  \n",
       "2                 21          15          3.0      std  \n",
       "3                 17          16          3.0      std  \n",
       "4                 26          20          2.0    light  "
      ]
     },
     "execution_count": 2,
     "metadata": {},
     "output_type": "execute_result"
    }
   ],
   "source": [
    "ice_cream_df = pd.read_csv('baskin_robbins_icecream.csv')\n",
    "ice_cream_df.head()"
   ]
  },
  {
   "cell_type": "markdown",
   "id": "b34dd9fb-bff3-4e78-ac5d-0f5e1a636ad7",
   "metadata": {},
   "source": [
    "### Q1"
   ]
  },
  {
   "cell_type": "code",
   "execution_count": 4,
   "id": "fc9beecc",
   "metadata": {},
   "outputs": [],
   "source": [
    "X = ice_cream_df.drop(columns = ['Category', 'Flavour'],axis=1)"
   ]
  },
  {
   "cell_type": "code",
   "execution_count": 5,
   "id": "57f48043",
   "metadata": {},
   "outputs": [
    {
     "data": {
      "text/html": [
       "<div>\n",
       "<style scoped>\n",
       "    .dataframe tbody tr th:only-of-type {\n",
       "        vertical-align: middle;\n",
       "    }\n",
       "\n",
       "    .dataframe tbody tr th {\n",
       "        vertical-align: top;\n",
       "    }\n",
       "\n",
       "    .dataframe thead th {\n",
       "        text-align: right;\n",
       "    }\n",
       "</style>\n",
       "<table border=\"1\" class=\"dataframe\">\n",
       "  <thead>\n",
       "    <tr style=\"text-align: right;\">\n",
       "      <th></th>\n",
       "      <th>Calories</th>\n",
       "      <th>Total Fat (g)</th>\n",
       "      <th>Trans Fat (g)</th>\n",
       "      <th>Carbohydrates (g)</th>\n",
       "      <th>Sugars (g)</th>\n",
       "      <th>Protein (g)</th>\n",
       "    </tr>\n",
       "  </thead>\n",
       "  <tbody>\n",
       "    <tr>\n",
       "      <th>0</th>\n",
       "      <td>160</td>\n",
       "      <td>8.0</td>\n",
       "      <td>0.2</td>\n",
       "      <td>20</td>\n",
       "      <td>16</td>\n",
       "      <td>2.0</td>\n",
       "    </tr>\n",
       "    <tr>\n",
       "      <th>1</th>\n",
       "      <td>160</td>\n",
       "      <td>9.0</td>\n",
       "      <td>0.2</td>\n",
       "      <td>19</td>\n",
       "      <td>13</td>\n",
       "      <td>3.0</td>\n",
       "    </tr>\n",
       "    <tr>\n",
       "      <th>2</th>\n",
       "      <td>170</td>\n",
       "      <td>9.0</td>\n",
       "      <td>0.3</td>\n",
       "      <td>21</td>\n",
       "      <td>15</td>\n",
       "      <td>3.0</td>\n",
       "    </tr>\n",
       "    <tr>\n",
       "      <th>3</th>\n",
       "      <td>120</td>\n",
       "      <td>4.0</td>\n",
       "      <td>0.1</td>\n",
       "      <td>17</td>\n",
       "      <td>16</td>\n",
       "      <td>3.0</td>\n",
       "    </tr>\n",
       "    <tr>\n",
       "      <th>4</th>\n",
       "      <td>130</td>\n",
       "      <td>2.0</td>\n",
       "      <td>0.1</td>\n",
       "      <td>26</td>\n",
       "      <td>20</td>\n",
       "      <td>2.0</td>\n",
       "    </tr>\n",
       "  </tbody>\n",
       "</table>\n",
       "</div>"
      ],
      "text/plain": [
       "   Calories  Total Fat (g)  Trans Fat (g)  Carbohydrates (g)  Sugars (g)  \\\n",
       "0       160            8.0            0.2                 20          16   \n",
       "1       160            9.0            0.2                 19          13   \n",
       "2       170            9.0            0.3                 21          15   \n",
       "3       120            4.0            0.1                 17          16   \n",
       "4       130            2.0            0.1                 26          20   \n",
       "\n",
       "   Protein (g)  \n",
       "0          2.0  \n",
       "1          3.0  \n",
       "2          3.0  \n",
       "3          3.0  \n",
       "4          2.0  "
      ]
     },
     "execution_count": 5,
     "metadata": {},
     "output_type": "execute_result"
    }
   ],
   "source": [
    "X.head()"
   ]
  },
  {
   "cell_type": "markdown",
   "id": "e61de992-0f99-494b-9151-6706a868d78d",
   "metadata": {},
   "source": [
    "### Q2"
   ]
  },
  {
   "cell_type": "code",
   "execution_count": 7,
   "id": "b579a294",
   "metadata": {},
   "outputs": [
    {
     "data": {
      "text/plain": [
       "array([[0.34615385, 0.15      , 0.4       , 0.24      , 0.375     ,\n",
       "        0.375     ],\n",
       "       [0.38461538, 0.15      , 0.6       , 0.32      , 0.45833333,\n",
       "        0.375     ],\n",
       "       [0.19230769, 0.06666667, 0.2       , 0.16      , 0.5       ,\n",
       "        0.375     ],\n",
       "       [0.23076923, 0.03333333, 0.2       , 0.52      , 0.66666667,\n",
       "        0.25      ]])"
      ]
     },
     "execution_count": 7,
     "metadata": {},
     "output_type": "execute_result"
    }
   ],
   "source": [
    "scaler = MinMaxScaler()\n",
    "XS = scaler.fit_transform(X)\n",
    "XS[1:5]"
   ]
  },
  {
   "cell_type": "code",
   "execution_count": 8,
   "id": "58d8fc58",
   "metadata": {},
   "outputs": [],
   "source": [
    "import warnings\n",
    "warnings.filterwarnings('ignore')"
   ]
  },
  {
   "cell_type": "code",
   "execution_count": 9,
   "id": "45082125",
   "metadata": {},
   "outputs": [],
   "source": [
    "wss = []\n",
    "\n",
    "\n",
    "for i in range(1, 15):\n",
    "    kmeans = KMeans(n_clusters = i, max_iter = 300, n_init=10, random_state = 99)\n",
    "    kmeans.fit(XS)\n",
    "    wss.append(kmeans.inertia_)"
   ]
  },
  {
   "cell_type": "code",
   "execution_count": 10,
   "id": "59d662e3",
   "metadata": {},
   "outputs": [
    {
     "data": {
      "image/png": "[encoded data removed]",
      "text/plain": [
       "<Figure size 640x480 with 1 Axes>"
      ]
     },
     "metadata": {},
     "output_type": "display_data"
    }
   ],
   "source": [
    "plt.plot(range(1, 15), wss)\n",
    "plt.title('Knee plot')\n",
    "plt.xlabel('Number of clusters')\n",
    "plt.ylabel('WCSS')\n",
    "plt.show()"
   ]
  },
  {
   "cell_type": "code",
   "execution_count": null,
   "id": "8c5309bc-5f43-4c24-9ca5-c548dc382e71",
   "metadata": {},
   "outputs": [],
   "source": []
  },
  {
   "cell_type": "markdown",
   "id": "747e0357-8188-4481-bf04-89311f7aaa57",
   "metadata": {},
   "source": [
    "### Q4"
   ]
  },
  {
   "cell_type": "code",
   "execution_count": 12,
   "id": "129e4064",
   "metadata": {},
   "outputs": [],
   "source": [
    "kmeans = KMeans(n_clusters = 2, max_iter = 300, random_state = 99)\n",
    "Y = kmeans.fit_predict(XS)"
   ]
  },
  {
   "cell_type": "code",
   "execution_count": 13,
   "id": "bbd9833a",
   "metadata": {},
   "outputs": [
    {
     "data": {
      "text/plain": [
       "array([1, 1, 1, 1, 1, 1, 1, 1, 0, 0, 1, 0, 0, 0, 1, 0, 1, 1, 1, 0, 0, 1,\n",
       "       1, 1, 1, 0, 1, 0, 0, 0, 1, 1, 1, 1, 0, 0, 0, 0, 1, 0, 0, 1, 0, 1,\n",
       "       1, 1, 1, 0, 0, 1, 1, 0, 1, 0, 1, 0, 0, 1, 1, 0, 1, 1, 0, 1, 1, 0,\n",
       "       1, 1, 1, 0])"
      ]
     },
     "execution_count": 13,
     "metadata": {},
     "output_type": "execute_result"
    }
   ],
   "source": [
    "Y"
   ]
  },
  {
   "cell_type": "code",
   "execution_count": 14,
   "id": "33d59628",
   "metadata": {},
   "outputs": [
    {
     "data": {
      "text/plain": [
       "0.45141141845881283"
      ]
     },
     "execution_count": 14,
     "metadata": {},
     "output_type": "execute_result"
    }
   ],
   "source": [
    "score = silhouette_score(XS, kmeans.labels_, metric='euclidean')\n",
    "score"
   ]
  },
  {
   "cell_type": "markdown",
   "id": "5850c563",
   "metadata": {},
   "source": [
    "#### Q5"
   ]
  },
  {
   "cell_type": "code",
   "execution_count": 52,
   "id": "fbfb5b35",
   "metadata": {},
   "outputs": [
    {
     "data": {
      "text/plain": [
       "Text(0.5, 1.0, 'The dataset post clustering')"
      ]
     },
     "execution_count": 52,
     "metadata": {},
     "output_type": "execute_result"
    },
    {
     "data": {
      "image/png": "[encoded data removed]",
      "text/plain": [
       "<Figure size 640x480 with 1 Axes>"
      ]
     },
     "metadata": {},
     "output_type": "display_data"
    }
   ],
   "source": [
    "color=np.array(['green','blue'])\n",
    "plt.scatter(x=X.Calories, y=X['Total Fat (g)'], c=color[kmeans.labels_])\n",
    "plt.xlabel('Calories')\n",
    "plt.ylabel('Total Fat (g)')\n",
    "plt.title(\"The dataset post clustering\")"
   ]
  },
  {
   "cell_type": "markdown",
   "id": "0ffaccc5",
   "metadata": {},
   "source": [
    "#### Q6"
   ]
  },
  {
   "cell_type": "code",
   "execution_count": 65,
   "id": "54c6c3d2",
   "metadata": {},
   "outputs": [],
   "source": [
    "C1 = X.iloc[Y == 0, :]\n",
    "C2 = X.iloc[Y == 1, :]"
   ]
  },
  {
   "cell_type": "code",
   "execution_count": 69,
   "id": "876f0aa1-ba4a-4273-a860-393821da712d",
   "metadata": {},
   "outputs": [
    {
     "data": {
      "text/html": [
       "<div>\n",
       "<style scoped>\n",
       "    .dataframe tbody tr th:only-of-type {\n",
       "        vertical-align: middle;\n",
       "    }\n",
       "\n",
       "    .dataframe tbody tr th {\n",
       "        vertical-align: top;\n",
       "    }\n",
       "\n",
       "    .dataframe thead th {\n",
       "        text-align: right;\n",
       "    }\n",
       "</style>\n",
       "<table border=\"1\" class=\"dataframe\">\n",
       "  <thead>\n",
       "    <tr style=\"text-align: right;\">\n",
       "      <th></th>\n",
       "      <th>Calories</th>\n",
       "      <th>Total Fat (g)</th>\n",
       "      <th>Trans Fat (g)</th>\n",
       "      <th>Carbohydrates (g)</th>\n",
       "      <th>Sugars (g)</th>\n",
       "      <th>Protein (g)</th>\n",
       "    </tr>\n",
       "  </thead>\n",
       "  <tbody>\n",
       "    <tr>\n",
       "      <th>8</th>\n",
       "      <td>200</td>\n",
       "      <td>8.0</td>\n",
       "      <td>0.2</td>\n",
       "      <td>38</td>\n",
       "      <td>7</td>\n",
       "      <td>5.0</td>\n",
       "    </tr>\n",
       "    <tr>\n",
       "      <th>9</th>\n",
       "      <td>220</td>\n",
       "      <td>11.0</td>\n",
       "      <td>0.4</td>\n",
       "      <td>26</td>\n",
       "      <td>19</td>\n",
       "      <td>4.0</td>\n",
       "    </tr>\n",
       "    <tr>\n",
       "      <th>11</th>\n",
       "      <td>230</td>\n",
       "      <td>13.0</td>\n",
       "      <td>0.4</td>\n",
       "      <td>25</td>\n",
       "      <td>18</td>\n",
       "      <td>5.0</td>\n",
       "    </tr>\n",
       "    <tr>\n",
       "      <th>12</th>\n",
       "      <td>240</td>\n",
       "      <td>15.0</td>\n",
       "      <td>0.5</td>\n",
       "      <td>23</td>\n",
       "      <td>18</td>\n",
       "      <td>5.0</td>\n",
       "    </tr>\n",
       "    <tr>\n",
       "      <th>13</th>\n",
       "      <td>280</td>\n",
       "      <td>15.0</td>\n",
       "      <td>0.5</td>\n",
       "      <td>31</td>\n",
       "      <td>23</td>\n",
       "      <td>5.0</td>\n",
       "    </tr>\n",
       "  </tbody>\n",
       "</table>\n",
       "</div>"
      ],
      "text/plain": [
       "    Calories  Total Fat (g)  Trans Fat (g)  Carbohydrates (g)  Sugars (g)  \\\n",
       "8        200            8.0            0.2                 38           7   \n",
       "9        220           11.0            0.4                 26          19   \n",
       "11       230           13.0            0.4                 25          18   \n",
       "12       240           15.0            0.5                 23          18   \n",
       "13       280           15.0            0.5                 31          23   \n",
       "\n",
       "    Protein (g)  \n",
       "8           5.0  \n",
       "9           4.0  \n",
       "11          5.0  \n",
       "12          5.0  \n",
       "13          5.0  "
      ]
     },
     "execution_count": 69,
     "metadata": {},
     "output_type": "execute_result"
    }
   ],
   "source": [
    "C1.head()"
   ]
  },
  {
   "cell_type": "code",
   "execution_count": 71,
   "id": "35105f32-396f-4004-8e77-a9b2240b6bf4",
   "metadata": {},
   "outputs": [
    {
     "data": {
      "text/html": [
       "<div>\n",
       "<style scoped>\n",
       "    .dataframe tbody tr th:only-of-type {\n",
       "        vertical-align: middle;\n",
       "    }\n",
       "\n",
       "    .dataframe tbody tr th {\n",
       "        vertical-align: top;\n",
       "    }\n",
       "\n",
       "    .dataframe thead th {\n",
       "        text-align: right;\n",
       "    }\n",
       "</style>\n",
       "<table border=\"1\" class=\"dataframe\">\n",
       "  <thead>\n",
       "    <tr style=\"text-align: right;\">\n",
       "      <th></th>\n",
       "      <th>Calories</th>\n",
       "      <th>Total Fat (g)</th>\n",
       "      <th>Trans Fat (g)</th>\n",
       "      <th>Carbohydrates (g)</th>\n",
       "      <th>Sugars (g)</th>\n",
       "      <th>Protein (g)</th>\n",
       "    </tr>\n",
       "  </thead>\n",
       "  <tbody>\n",
       "    <tr>\n",
       "      <th>0</th>\n",
       "      <td>160</td>\n",
       "      <td>8.0</td>\n",
       "      <td>0.2</td>\n",
       "      <td>20</td>\n",
       "      <td>16</td>\n",
       "      <td>2.0</td>\n",
       "    </tr>\n",
       "    <tr>\n",
       "      <th>1</th>\n",
       "      <td>160</td>\n",
       "      <td>9.0</td>\n",
       "      <td>0.2</td>\n",
       "      <td>19</td>\n",
       "      <td>13</td>\n",
       "      <td>3.0</td>\n",
       "    </tr>\n",
       "    <tr>\n",
       "      <th>2</th>\n",
       "      <td>170</td>\n",
       "      <td>9.0</td>\n",
       "      <td>0.3</td>\n",
       "      <td>21</td>\n",
       "      <td>15</td>\n",
       "      <td>3.0</td>\n",
       "    </tr>\n",
       "    <tr>\n",
       "      <th>3</th>\n",
       "      <td>120</td>\n",
       "      <td>4.0</td>\n",
       "      <td>0.1</td>\n",
       "      <td>17</td>\n",
       "      <td>16</td>\n",
       "      <td>3.0</td>\n",
       "    </tr>\n",
       "    <tr>\n",
       "      <th>4</th>\n",
       "      <td>130</td>\n",
       "      <td>2.0</td>\n",
       "      <td>0.1</td>\n",
       "      <td>26</td>\n",
       "      <td>20</td>\n",
       "      <td>2.0</td>\n",
       "    </tr>\n",
       "  </tbody>\n",
       "</table>\n",
       "</div>"
      ],
      "text/plain": [
       "   Calories  Total Fat (g)  Trans Fat (g)  Carbohydrates (g)  Sugars (g)  \\\n",
       "0       160            8.0            0.2                 20          16   \n",
       "1       160            9.0            0.2                 19          13   \n",
       "2       170            9.0            0.3                 21          15   \n",
       "3       120            4.0            0.1                 17          16   \n",
       "4       130            2.0            0.1                 26          20   \n",
       "\n",
       "   Protein (g)  \n",
       "0          2.0  \n",
       "1          3.0  \n",
       "2          3.0  \n",
       "3          3.0  \n",
       "4          2.0  "
      ]
     },
     "execution_count": 71,
     "metadata": {},
     "output_type": "execute_result"
    }
   ],
   "source": [
    "C2.head()"
   ]
  },
  {
   "cell_type": "code",
   "execution_count": 96,
   "id": "050d1e65-7ece-407f-8a18-db602316bf48",
   "metadata": {},
   "outputs": [
    {
     "data": {
      "text/html": [
       "<div>\n",
       "<style scoped>\n",
       "    .dataframe tbody tr th:only-of-type {\n",
       "        vertical-align: middle;\n",
       "    }\n",
       "\n",
       "    .dataframe tbody tr th {\n",
       "        vertical-align: top;\n",
       "    }\n",
       "\n",
       "    .dataframe thead th {\n",
       "        text-align: right;\n",
       "    }\n",
       "</style>\n",
       "<table border=\"1\" class=\"dataframe\">\n",
       "  <thead>\n",
       "    <tr style=\"text-align: right;\">\n",
       "      <th></th>\n",
       "      <th>Calories</th>\n",
       "      <th>Total Fat (g)</th>\n",
       "      <th>Trans Fat (g)</th>\n",
       "      <th>Carbohydrates (g)</th>\n",
       "      <th>Sugars (g)</th>\n",
       "      <th>Protein (g)</th>\n",
       "    </tr>\n",
       "  </thead>\n",
       "  <tbody>\n",
       "    <tr>\n",
       "      <th>count</th>\n",
       "      <td>29.000000</td>\n",
       "      <td>29.000000</td>\n",
       "      <td>29.000000</td>\n",
       "      <td>29.000000</td>\n",
       "      <td>29.000000</td>\n",
       "      <td>29.000000</td>\n",
       "    </tr>\n",
       "    <tr>\n",
       "      <th>mean</th>\n",
       "      <td>252.758621</td>\n",
       "      <td>15.896552</td>\n",
       "      <td>0.400000</td>\n",
       "      <td>27.275862</td>\n",
       "      <td>19.965517</td>\n",
       "      <td>4.965517</td>\n",
       "    </tr>\n",
       "    <tr>\n",
       "      <th>std</th>\n",
       "      <td>30.925781</td>\n",
       "      <td>9.123536</td>\n",
       "      <td>0.070711</td>\n",
       "      <td>4.463315</td>\n",
       "      <td>4.153164</td>\n",
       "      <td>1.017095</td>\n",
       "    </tr>\n",
       "    <tr>\n",
       "      <th>min</th>\n",
       "      <td>200.000000</td>\n",
       "      <td>8.000000</td>\n",
       "      <td>0.200000</td>\n",
       "      <td>20.000000</td>\n",
       "      <td>7.000000</td>\n",
       "      <td>4.000000</td>\n",
       "    </tr>\n",
       "    <tr>\n",
       "      <th>25%</th>\n",
       "      <td>230.000000</td>\n",
       "      <td>12.000000</td>\n",
       "      <td>0.400000</td>\n",
       "      <td>24.000000</td>\n",
       "      <td>18.000000</td>\n",
       "      <td>4.000000</td>\n",
       "    </tr>\n",
       "    <tr>\n",
       "      <th>50%</th>\n",
       "      <td>250.000000</td>\n",
       "      <td>14.000000</td>\n",
       "      <td>0.400000</td>\n",
       "      <td>28.000000</td>\n",
       "      <td>20.000000</td>\n",
       "      <td>5.000000</td>\n",
       "    </tr>\n",
       "    <tr>\n",
       "      <th>75%</th>\n",
       "      <td>270.000000</td>\n",
       "      <td>17.000000</td>\n",
       "      <td>0.400000</td>\n",
       "      <td>30.000000</td>\n",
       "      <td>23.000000</td>\n",
       "      <td>5.000000</td>\n",
       "    </tr>\n",
       "    <tr>\n",
       "      <th>max</th>\n",
       "      <td>330.000000</td>\n",
       "      <td>60.000000</td>\n",
       "      <td>0.500000</td>\n",
       "      <td>38.000000</td>\n",
       "      <td>28.000000</td>\n",
       "      <td>8.000000</td>\n",
       "    </tr>\n",
       "  </tbody>\n",
       "</table>\n",
       "</div>"
      ],
      "text/plain": [
       "         Calories  Total Fat (g)  Trans Fat (g)  Carbohydrates (g)  \\\n",
       "count   29.000000      29.000000      29.000000          29.000000   \n",
       "mean   252.758621      15.896552       0.400000          27.275862   \n",
       "std     30.925781       9.123536       0.070711           4.463315   \n",
       "min    200.000000       8.000000       0.200000          20.000000   \n",
       "25%    230.000000      12.000000       0.400000          24.000000   \n",
       "50%    250.000000      14.000000       0.400000          28.000000   \n",
       "75%    270.000000      17.000000       0.400000          30.000000   \n",
       "max    330.000000      60.000000       0.500000          38.000000   \n",
       "\n",
       "       Sugars (g)  Protein (g)  \n",
       "count   29.000000    29.000000  \n",
       "mean    19.965517     4.965517  \n",
       "std      4.153164     1.017095  \n",
       "min      7.000000     4.000000  \n",
       "25%     18.000000     4.000000  \n",
       "50%     20.000000     5.000000  \n",
       "75%     23.000000     5.000000  \n",
       "max     28.000000     8.000000  "
      ]
     },
     "execution_count": 96,
     "metadata": {},
     "output_type": "execute_result"
    }
   ],
   "source": [
    "C1.describe()"
   ]
  },
  {
   "cell_type": "code",
   "execution_count": 74,
   "id": "66da9693",
   "metadata": {},
   "outputs": [
    {
     "data": {
      "text/plain": [
       "15.89655172413793"
      ]
     },
     "execution_count": 74,
     "metadata": {},
     "output_type": "execute_result"
    }
   ],
   "source": [
    "C1['Total Fat (g)'].mean()"
   ]
  },
  {
   "cell_type": "code",
   "execution_count": 76,
   "id": "82c79759",
   "metadata": {},
   "outputs": [
    {
     "data": {
      "text/plain": [
       "<Axes: >"
      ]
     },
     "execution_count": 76,
     "metadata": {},
     "output_type": "execute_result"
    },
    {
     "data": {
      "image/png": "[encoded data removed]",
      "text/plain": [
       "<Figure size 640x480 with 1 Axes>"
      ]
     },
     "metadata": {},
     "output_type": "display_data"
    }
   ],
   "source": [
    "C1['Total Fat (g)'].hist()"
   ]
  },
  {
   "cell_type": "code",
   "execution_count": 78,
   "id": "1df51a9c",
   "metadata": {},
   "outputs": [
    {
     "data": {
      "text/plain": [
       "<Axes: xlabel='Total Fat (g)', ylabel='Count'>"
      ]
     },
     "execution_count": 78,
     "metadata": {},
     "output_type": "execute_result"
    },
    {
     "data": {
      "image/png": "[encoded data removed]",
      "text/plain": [
       "<Figure size 640x480 with 1 Axes>"
      ]
     },
     "metadata": {},
     "output_type": "display_data"
    }
   ],
   "source": [
    "sns.histplot(data=C1, x=\"Total Fat (g)\")"
   ]
  },
  {
   "cell_type": "code",
   "execution_count": 98,
   "id": "b3485b40-3f77-4a0c-9f73-08b01a3553c7",
   "metadata": {},
   "outputs": [
    {
     "data": {
      "text/html": [
       "<div>\n",
       "<style scoped>\n",
       "    .dataframe tbody tr th:only-of-type {\n",
       "        vertical-align: middle;\n",
       "    }\n",
       "\n",
       "    .dataframe tbody tr th {\n",
       "        vertical-align: top;\n",
       "    }\n",
       "\n",
       "    .dataframe thead th {\n",
       "        text-align: right;\n",
       "    }\n",
       "</style>\n",
       "<table border=\"1\" class=\"dataframe\">\n",
       "  <thead>\n",
       "    <tr style=\"text-align: right;\">\n",
       "      <th></th>\n",
       "      <th>Calories</th>\n",
       "      <th>Total Fat (g)</th>\n",
       "      <th>Trans Fat (g)</th>\n",
       "      <th>Carbohydrates (g)</th>\n",
       "      <th>Sugars (g)</th>\n",
       "      <th>Protein (g)</th>\n",
       "    </tr>\n",
       "  </thead>\n",
       "  <tbody>\n",
       "    <tr>\n",
       "      <th>count</th>\n",
       "      <td>41.000000</td>\n",
       "      <td>41.000000</td>\n",
       "      <td>41.000000</td>\n",
       "      <td>41.000000</td>\n",
       "      <td>41.000000</td>\n",
       "      <td>41.000000</td>\n",
       "    </tr>\n",
       "    <tr>\n",
       "      <th>mean</th>\n",
       "      <td>148.536585</td>\n",
       "      <td>6.790244</td>\n",
       "      <td>0.190244</td>\n",
       "      <td>19.804878</td>\n",
       "      <td>14.756098</td>\n",
       "      <td>2.578049</td>\n",
       "    </tr>\n",
       "    <tr>\n",
       "      <th>std</th>\n",
       "      <td>35.676391</td>\n",
       "      <td>3.933053</td>\n",
       "      <td>0.120010</td>\n",
       "      <td>3.689306</td>\n",
       "      <td>3.359914</td>\n",
       "      <td>1.311204</td>\n",
       "    </tr>\n",
       "    <tr>\n",
       "      <th>min</th>\n",
       "      <td>70.000000</td>\n",
       "      <td>0.000000</td>\n",
       "      <td>0.000000</td>\n",
       "      <td>13.000000</td>\n",
       "      <td>4.000000</td>\n",
       "      <td>0.000000</td>\n",
       "    </tr>\n",
       "    <tr>\n",
       "      <th>25%</th>\n",
       "      <td>130.000000</td>\n",
       "      <td>4.000000</td>\n",
       "      <td>0.100000</td>\n",
       "      <td>17.000000</td>\n",
       "      <td>13.000000</td>\n",
       "      <td>2.000000</td>\n",
       "    </tr>\n",
       "    <tr>\n",
       "      <th>50%</th>\n",
       "      <td>160.000000</td>\n",
       "      <td>8.000000</td>\n",
       "      <td>0.200000</td>\n",
       "      <td>20.000000</td>\n",
       "      <td>15.000000</td>\n",
       "      <td>3.000000</td>\n",
       "    </tr>\n",
       "    <tr>\n",
       "      <th>75%</th>\n",
       "      <td>180.000000</td>\n",
       "      <td>10.000000</td>\n",
       "      <td>0.300000</td>\n",
       "      <td>21.000000</td>\n",
       "      <td>17.000000</td>\n",
       "      <td>3.000000</td>\n",
       "    </tr>\n",
       "    <tr>\n",
       "      <th>max</th>\n",
       "      <td>190.000000</td>\n",
       "      <td>12.000000</td>\n",
       "      <td>0.400000</td>\n",
       "      <td>30.000000</td>\n",
       "      <td>20.000000</td>\n",
       "      <td>6.000000</td>\n",
       "    </tr>\n",
       "  </tbody>\n",
       "</table>\n",
       "</div>"
      ],
      "text/plain": [
       "         Calories  Total Fat (g)  Trans Fat (g)  Carbohydrates (g)  \\\n",
       "count   41.000000      41.000000      41.000000          41.000000   \n",
       "mean   148.536585       6.790244       0.190244          19.804878   \n",
       "std     35.676391       3.933053       0.120010           3.689306   \n",
       "min     70.000000       0.000000       0.000000          13.000000   \n",
       "25%    130.000000       4.000000       0.100000          17.000000   \n",
       "50%    160.000000       8.000000       0.200000          20.000000   \n",
       "75%    180.000000      10.000000       0.300000          21.000000   \n",
       "max    190.000000      12.000000       0.400000          30.000000   \n",
       "\n",
       "       Sugars (g)  Protein (g)  \n",
       "count   41.000000    41.000000  \n",
       "mean    14.756098     2.578049  \n",
       "std      3.359914     1.311204  \n",
       "min      4.000000     0.000000  \n",
       "25%     13.000000     2.000000  \n",
       "50%     15.000000     3.000000  \n",
       "75%     17.000000     3.000000  \n",
       "max     20.000000     6.000000  "
      ]
     },
     "execution_count": 98,
     "metadata": {},
     "output_type": "execute_result"
    }
   ],
   "source": [
    "C2.describe()"
   ]
  },
  {
   "cell_type": "code",
   "execution_count": 80,
   "id": "d78d9e76",
   "metadata": {},
   "outputs": [
    {
     "data": {
      "text/plain": [
       "6.790243902439024"
      ]
     },
     "execution_count": 80,
     "metadata": {},
     "output_type": "execute_result"
    }
   ],
   "source": [
    "C2['Total Fat (g)'].mean()"
   ]
  },
  {
   "cell_type": "code",
   "execution_count": 82,
   "id": "ea2f96be",
   "metadata": {},
   "outputs": [
    {
     "data": {
      "text/plain": [
       "<Axes: >"
      ]
     },
     "execution_count": 82,
     "metadata": {},
     "output_type": "execute_result"
    },
    {
     "data": {
      "image/png": "[encoded data removed]",
      "text/plain": [
       "<Figure size 640x480 with 1 Axes>"
      ]
     },
     "metadata": {},
     "output_type": "display_data"
    }
   ],
   "source": [
    "C2['Total Fat (g)'].hist()"
   ]
  },
  {
   "cell_type": "code",
   "execution_count": 84,
   "id": "d0ef87a1",
   "metadata": {},
   "outputs": [
    {
     "data": {
      "text/plain": [
       "<Axes: xlabel='Total Fat (g)', ylabel='Count'>"
      ]
     },
     "execution_count": 84,
     "metadata": {},
     "output_type": "execute_result"
    },
    {
     "data": {
      "image/png": "[encoded data removed]",
      "text/plain": [
       "<Figure size 640x480 with 1 Axes>"
      ]
     },
     "metadata": {},
     "output_type": "display_data"
    }
   ],
   "source": [
    "sns.histplot(data=C2, x=\"Total Fat (g)\")"
   ]
  },
  {
   "cell_type": "markdown",
   "id": "26e7b12d-2ce7-48a8-bbcd-b60acf4e73aa",
   "metadata": {},
   "source": [
    "#### C1 insights:<br>\n",
    "##### The shows a variety of options, with calories ranging from 200 to 330 and a median of 250. Total fat content, averages around 15.9g, with most ice creams keeping trans fat levels low at 0.4g or less. Carbohydrate and sugar contents have median values of 28g and 20g, respectively, indicating a balanced sweetness, while protein levels are relatively consistent at around 5g. Overall, the products cater to mainstream consumers by offering a moderate balance between indulgence and health.\n",
    "#### C2 insights:<br>\n",
    "##### This dataset likely represents low-calorie ice creams, with calorie counts ranging from 70 to 190. Fat content is low with a mean of 6.8g, with minimal trans fats. Carbohydrates and sugars are moderate, providing controlled sweetness. Overall, these ice creams are consistent, low-fat, and lighter optionss."
   ]
  },
  {
   "cell_type": "markdown",
   "id": "70ae31a2-df9c-4788-aec0-a74e1cc26fb7",
   "metadata": {},
   "source": [
    "#### Q8"
   ]
  },
  {
   "cell_type": "markdown",
   "id": "188e9e7b",
   "metadata": {},
   "source": [
    "#### C1 has high Fat content, around 15.9g so we can call it Fat not fit. <br>C2 has comparatively low fat content, around 6.8 g, so it can be named as Skinny swirl."
   ]
  },
  {
   "cell_type": "code",
   "execution_count": null,
   "id": "cd9795a6-be74-47ca-b786-6593ffbfe8e7",
   "metadata": {},
   "outputs": [],
   "source": []
  },
  {
   "cell_type": "code",
   "execution_count": null,
   "id": "3e02d4bf",
   "metadata": {},
   "outputs": [],
   "source": []
  },
  {
   "cell_type": "code",
   "execution_count": null,
   "id": "ce758bf6",
   "metadata": {},
   "outputs": [],
   "source": []
  }
 ],
 "metadata": {
  "kernelspec": {
   "display_name": "Python 3 (ipykernel)",
   "language": "python",
   "name": "python3"
  },
  "language_info": {
   "codemirror_mode": {
    "name": "ipython",
    "version": 3
   },
   "file_extension": ".py",
   "mimetype": "text/x-python",
   "name": "python",
   "nbconvert_exporter": "python",
   "pygments_lexer": "ipython3",
   "version": "3.12.4"
  }
 },
 "nbformat": 4,
 "nbformat_minor": 5
}
