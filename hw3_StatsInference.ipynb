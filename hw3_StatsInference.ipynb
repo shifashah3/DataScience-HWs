{
 "cells": [
  {
   "cell_type": "markdown",
   "id": "98ff4a9a",
   "metadata": {},
   "source": [
    "## HW 3 - Statistical Inference"
   ]
  },
  {
   "cell_type": "markdown",
   "id": "8d2a2983-7812-4a32-ba56-4799cfec9092",
   "metadata": {},
   "source": [
    "## Shifa Shah"
   ]
  },
  {
   "cell_type": "markdown",
   "id": "ade01380-4516-482e-bb02-2c8273c62eb1",
   "metadata": {},
   "source": [
    "### ss08336@st.habib.edu.pk"
   ]
  },
  {
   "cell_type": "code",
   "execution_count": 3,
   "id": "d99a7b0a",
   "metadata": {},
   "outputs": [],
   "source": [
    "import pandas as pd\n",
    "import numpy as np\n",
    "import seaborn as sns\n",
    "import matplotlib.pyplot as plt\n",
    "from scipy import stats"
   ]
  },
  {
   "cell_type": "code",
   "execution_count": 4,
   "id": "ed61b6fe",
   "metadata": {},
   "outputs": [],
   "source": [
    "df = pd.read_csv('student-scores.csv')"
   ]
  },
  {
   "cell_type": "code",
   "execution_count": 5,
   "id": "d4400494",
   "metadata": {},
   "outputs": [
    {
     "data": {
      "text/html": [
       "<div>\n",
       "<style scoped>\n",
       "    .dataframe tbody tr th:only-of-type {\n",
       "        vertical-align: middle;\n",
       "    }\n",
       "\n",
       "    .dataframe tbody tr th {\n",
       "        vertical-align: top;\n",
       "    }\n",
       "\n",
       "    .dataframe thead th {\n",
       "        text-align: right;\n",
       "    }\n",
       "</style>\n",
       "<table border=\"1\" class=\"dataframe\">\n",
       "  <thead>\n",
       "    <tr style=\"text-align: right;\">\n",
       "      <th></th>\n",
       "      <th>id</th>\n",
       "      <th>first_name</th>\n",
       "      <th>last_name</th>\n",
       "      <th>email</th>\n",
       "      <th>gender</th>\n",
       "      <th>part_time_job</th>\n",
       "      <th>absence_days</th>\n",
       "      <th>extracurricular_activities</th>\n",
       "      <th>weekly_self_study_hours</th>\n",
       "      <th>career_aspiration</th>\n",
       "      <th>math_score</th>\n",
       "      <th>history_score</th>\n",
       "      <th>physics_score</th>\n",
       "      <th>chemistry_score</th>\n",
       "      <th>biology_score</th>\n",
       "      <th>english_score</th>\n",
       "      <th>geography_score</th>\n",
       "    </tr>\n",
       "  </thead>\n",
       "  <tbody>\n",
       "    <tr>\n",
       "      <th>0</th>\n",
       "      <td>1</td>\n",
       "      <td>Paul</td>\n",
       "      <td>Casey</td>\n",
       "      <td>paul.casey.1@gslingacademy.com</td>\n",
       "      <td>male</td>\n",
       "      <td>False</td>\n",
       "      <td>3</td>\n",
       "      <td>False</td>\n",
       "      <td>27</td>\n",
       "      <td>Lawyer</td>\n",
       "      <td>73</td>\n",
       "      <td>81</td>\n",
       "      <td>93</td>\n",
       "      <td>97</td>\n",
       "      <td>63</td>\n",
       "      <td>80</td>\n",
       "      <td>87</td>\n",
       "    </tr>\n",
       "    <tr>\n",
       "      <th>1</th>\n",
       "      <td>2</td>\n",
       "      <td>Danielle</td>\n",
       "      <td>Sandoval</td>\n",
       "      <td>danielle.sandoval.2@gslingacademy.com</td>\n",
       "      <td>female</td>\n",
       "      <td>False</td>\n",
       "      <td>2</td>\n",
       "      <td>False</td>\n",
       "      <td>47</td>\n",
       "      <td>Doctor</td>\n",
       "      <td>90</td>\n",
       "      <td>86</td>\n",
       "      <td>96</td>\n",
       "      <td>100</td>\n",
       "      <td>90</td>\n",
       "      <td>88</td>\n",
       "      <td>90</td>\n",
       "    </tr>\n",
       "    <tr>\n",
       "      <th>2</th>\n",
       "      <td>3</td>\n",
       "      <td>Tina</td>\n",
       "      <td>Andrews</td>\n",
       "      <td>tina.andrews.3@gslingacademy.com</td>\n",
       "      <td>female</td>\n",
       "      <td>False</td>\n",
       "      <td>9</td>\n",
       "      <td>True</td>\n",
       "      <td>13</td>\n",
       "      <td>Government Officer</td>\n",
       "      <td>81</td>\n",
       "      <td>97</td>\n",
       "      <td>95</td>\n",
       "      <td>96</td>\n",
       "      <td>65</td>\n",
       "      <td>77</td>\n",
       "      <td>94</td>\n",
       "    </tr>\n",
       "    <tr>\n",
       "      <th>3</th>\n",
       "      <td>4</td>\n",
       "      <td>Tara</td>\n",
       "      <td>Clark</td>\n",
       "      <td>tara.clark.4@gslingacademy.com</td>\n",
       "      <td>female</td>\n",
       "      <td>False</td>\n",
       "      <td>5</td>\n",
       "      <td>False</td>\n",
       "      <td>3</td>\n",
       "      <td>Artist</td>\n",
       "      <td>71</td>\n",
       "      <td>74</td>\n",
       "      <td>88</td>\n",
       "      <td>80</td>\n",
       "      <td>89</td>\n",
       "      <td>63</td>\n",
       "      <td>86</td>\n",
       "    </tr>\n",
       "    <tr>\n",
       "      <th>4</th>\n",
       "      <td>5</td>\n",
       "      <td>Anthony</td>\n",
       "      <td>Campos</td>\n",
       "      <td>anthony.campos.5@gslingacademy.com</td>\n",
       "      <td>male</td>\n",
       "      <td>False</td>\n",
       "      <td>5</td>\n",
       "      <td>False</td>\n",
       "      <td>10</td>\n",
       "      <td>Unknown</td>\n",
       "      <td>84</td>\n",
       "      <td>77</td>\n",
       "      <td>65</td>\n",
       "      <td>65</td>\n",
       "      <td>80</td>\n",
       "      <td>74</td>\n",
       "      <td>76</td>\n",
       "    </tr>\n",
       "  </tbody>\n",
       "</table>\n",
       "</div>"
      ],
      "text/plain": [
       "   id first_name last_name                                  email  gender  \\\n",
       "0   1       Paul     Casey         paul.casey.1@gslingacademy.com    male   \n",
       "1   2   Danielle  Sandoval  danielle.sandoval.2@gslingacademy.com  female   \n",
       "2   3       Tina   Andrews       tina.andrews.3@gslingacademy.com  female   \n",
       "3   4       Tara     Clark         tara.clark.4@gslingacademy.com  female   \n",
       "4   5    Anthony    Campos     anthony.campos.5@gslingacademy.com    male   \n",
       "\n",
       "   part_time_job  absence_days  extracurricular_activities  \\\n",
       "0          False             3                       False   \n",
       "1          False             2                       False   \n",
       "2          False             9                        True   \n",
       "3          False             5                       False   \n",
       "4          False             5                       False   \n",
       "\n",
       "   weekly_self_study_hours   career_aspiration  math_score  history_score  \\\n",
       "0                       27              Lawyer          73             81   \n",
       "1                       47              Doctor          90             86   \n",
       "2                       13  Government Officer          81             97   \n",
       "3                        3              Artist          71             74   \n",
       "4                       10             Unknown          84             77   \n",
       "\n",
       "   physics_score  chemistry_score  biology_score  english_score  \\\n",
       "0             93               97             63             80   \n",
       "1             96              100             90             88   \n",
       "2             95               96             65             77   \n",
       "3             88               80             89             63   \n",
       "4             65               65             80             74   \n",
       "\n",
       "   geography_score  \n",
       "0               87  \n",
       "1               90  \n",
       "2               94  \n",
       "3               86  \n",
       "4               76  "
      ]
     },
     "execution_count": 5,
     "metadata": {},
     "output_type": "execute_result"
    }
   ],
   "source": [
    "df.head()"
   ]
  },
  {
   "cell_type": "markdown",
   "id": "3f67f9e0",
   "metadata": {},
   "source": [
    "# Hypothesis Testing"
   ]
  },
  {
   "cell_type": "markdown",
   "id": "a4062e1d",
   "metadata": {},
   "source": [
    "#### Q1\n",
    "If math_score of males is greater than females <br>\n",
    "H0: the math_score of males is not greater than females. <br>\n",
    "Ha: the math_score of males is greater than females. <br>"
   ]
  },
  {
   "cell_type": "code",
   "execution_count": 8,
   "id": "b40397df",
   "metadata": {},
   "outputs": [],
   "source": [
    "male_scores = df[df['gender']=='male']['math_score']\n",
    "female_scores = df[df['gender']=='female']['math_score']"
   ]
  },
  {
   "cell_type": "code",
   "execution_count": 9,
   "id": "8ff05924",
   "metadata": {},
   "outputs": [
    {
     "data": {
      "text/plain": [
       "0       73\n",
       "4       84\n",
       "6       99\n",
       "7       95\n",
       "8       94\n",
       "        ..\n",
       "1992    79\n",
       "1993    92\n",
       "1994    76\n",
       "1995    83\n",
       "1996    89\n",
       "Name: math_score, Length: 998, dtype: int64"
      ]
     },
     "execution_count": 9,
     "metadata": {},
     "output_type": "execute_result"
    }
   ],
   "source": [
    "male_scores"
   ]
  },
  {
   "cell_type": "code",
   "execution_count": 10,
   "id": "74a8214a",
   "metadata": {},
   "outputs": [
    {
     "data": {
      "text/plain": [
       "1       90\n",
       "2       81\n",
       "3       71\n",
       "5       93\n",
       "9       98\n",
       "        ..\n",
       "1987    97\n",
       "1991    88\n",
       "1997    97\n",
       "1998    51\n",
       "1999    82\n",
       "Name: math_score, Length: 1002, dtype: int64"
      ]
     },
     "execution_count": 10,
     "metadata": {},
     "output_type": "execute_result"
    }
   ],
   "source": [
    "female_scores"
   ]
  },
  {
   "cell_type": "code",
   "execution_count": 11,
   "id": "25930c3a",
   "metadata": {},
   "outputs": [
    {
     "data": {
      "text/plain": [
       "TtestResult(statistic=2.2371559026936256, pvalue=0.012693020299630226, df=1998.0)"
      ]
     },
     "execution_count": 11,
     "metadata": {},
     "output_type": "execute_result"
    }
   ],
   "source": [
    "stats.ttest_ind(male_scores, female_scores, alternative='greater')"
   ]
  },
  {
   "cell_type": "markdown",
   "id": "df7af55c",
   "metadata": {},
   "source": [
    "### Conclusion:\n",
    "P-Value < 0.05 => We reject Null hypothesis H0 <br> \n",
    "so Ha is true/valid i.e, the math_score of males is greater than females. <br>"
   ]
  },
  {
   "cell_type": "markdown",
   "id": "a61a92c6",
   "metadata": {},
   "source": [
    "#### Q2 \n",
    "if math_score of Non Doctors is greater than Doctors <br>\n",
    "H0: math_score of Non Doctors is not greater than Doctors. <br>\n",
    "Ha: math_score of Non Doctors is greater than Doctors. <br>"
   ]
  },
  {
   "cell_type": "code",
   "execution_count": 13,
   "id": "c80075dc-9303-4ff1-a299-ceebb38798e6",
   "metadata": {},
   "outputs": [],
   "source": [
    "doctors = df[df['career_aspiration']=='Doctor']['math_score']\n",
    "# doctors"
   ]
  },
  {
   "cell_type": "code",
   "execution_count": 15,
   "id": "39ee41b8-bdb0-4487-9639-4f1af9051d7b",
   "metadata": {},
   "outputs": [],
   "source": [
    "non_doctors = df[df['career_aspiration']!='Doctor']['math_score']\n",
    "# non_doctors"
   ]
  },
  {
   "cell_type": "code",
   "execution_count": 21,
   "id": "9b285f05",
   "metadata": {},
   "outputs": [
    {
     "data": {
      "text/plain": [
       "TtestResult(statistic=-7.389083205876682, pvalue=0.999999999999892, df=1998.0)"
      ]
     },
     "execution_count": 21,
     "metadata": {},
     "output_type": "execute_result"
    }
   ],
   "source": [
    "stats.ttest_ind(non_doctors, doctors, alternative=\"greater\")"
   ]
  },
  {
   "cell_type": "markdown",
   "id": "b86183be",
   "metadata": {},
   "source": [
    "### Conclusion:\n",
    "P-Value < 0.05 => We reject Null hypothesis H0 <br> \n",
    "so Ha is true/valid i.e, math_score of Non Doctors is greater than Doctors."
   ]
  },
  {
   "cell_type": "markdown",
   "id": "e17e9a87-9169-4f32-ae68-3a4921a77d2b",
   "metadata": {},
   "source": [
    "#### Q3\n",
    "Weekly_self_study_hours of males are greater than females <br>\n",
    "H0: weekly_self_study_hours of males are not greater than females <br>\n",
    "Ha: weekly_self_study_hours of males are greater than females <br>"
   ]
  },
  {
   "cell_type": "code",
   "execution_count": 29,
   "id": "fc4fabd3-c941-4345-86ce-2163595bf177",
   "metadata": {},
   "outputs": [
    {
     "data": {
      "text/plain": [
       "0       27\n",
       "4       10\n",
       "6       23\n",
       "7       34\n",
       "8       25\n",
       "        ..\n",
       "1992    12\n",
       "1993    46\n",
       "1994    19\n",
       "1995    30\n",
       "1996    20\n",
       "Name: weekly_self_study_hours, Length: 998, dtype: int64"
      ]
     },
     "execution_count": 29,
     "metadata": {},
     "output_type": "execute_result"
    }
   ],
   "source": [
    "males_hours = df[df['gender']=='male']['weekly_self_study_hours']\n",
    "males_hours"
   ]
  },
  {
   "cell_type": "code",
   "execution_count": 31,
   "id": "e30b54ea-eea6-4b70-9f1d-87cc5d999a4f",
   "metadata": {},
   "outputs": [
    {
     "data": {
      "text/plain": [
       "1       47\n",
       "2       13\n",
       "3        3\n",
       "5       26\n",
       "9       18\n",
       "        ..\n",
       "1987     8\n",
       "1991    27\n",
       "1997    14\n",
       "1998     5\n",
       "1999    27\n",
       "Name: weekly_self_study_hours, Length: 1002, dtype: int64"
      ]
     },
     "execution_count": 31,
     "metadata": {},
     "output_type": "execute_result"
    }
   ],
   "source": [
    "female_hours = df[df['gender']=='female']['weekly_self_study_hours']\n",
    "female_hours"
   ]
  },
  {
   "cell_type": "code",
   "execution_count": 36,
   "id": "659f99a7-a1ef-4bc2-9fe5-d572dadad361",
   "metadata": {},
   "outputs": [
    {
     "data": {
      "text/plain": [
       "TtestResult(statistic=3.4567831650474443, pvalue=0.00027905018418441824, df=1998.0)"
      ]
     },
     "execution_count": 36,
     "metadata": {},
     "output_type": "execute_result"
    }
   ],
   "source": [
    "stats.ttest_ind(males_hours, female_hours, alternative='greater')"
   ]
  },
  {
   "cell_type": "markdown",
   "id": "012f9f7a-0773-4655-ada4-7bb55defb123",
   "metadata": {},
   "source": [
    "### Conclusion:\n",
    "P-Value < 0.05 => We reject Null hypothesis H0 <br> \n",
    "so Ha is true/valid i.e, weekly_self_study_hours of males are greater than females."
   ]
  },
  {
   "cell_type": "markdown",
   "id": "54e4a248-8916-4958-832b-95a9139518ca",
   "metadata": {},
   "source": [
    "#### Q4\n",
    "Math_score of no part_time_job male students are greater than part_time_job male\r\n",
    "students <br>\n",
    "H0: math_score of no part_time_job male students are not  greater than part_time_job male\n",
    "students <br>\n",
    "Ha: math_score of no part_time_job male students are greater than part_time_job male\n",
    "students <br>."
   ]
  },
  {
   "cell_type": "code",
   "execution_count": 46,
   "id": "9b5d4c63-a01a-4f91-9c71-625b0fb15adb",
   "metadata": {},
   "outputs": [
    {
     "data": {
      "text/plain": [
       "0       73\n",
       "4       84\n",
       "6       99\n",
       "8       94\n",
       "11      80\n",
       "        ..\n",
       "1992    79\n",
       "1993    92\n",
       "1994    76\n",
       "1995    83\n",
       "1996    89\n",
       "Name: math_score, Length: 849, dtype: int64"
      ]
     },
     "execution_count": 46,
     "metadata": {},
     "output_type": "execute_result"
    }
   ],
   "source": [
    "no_part_time = df[(df['gender']=='male') & (df['part_time_job']==False)]['math_score']\n",
    "no_part_time"
   ]
  },
  {
   "cell_type": "code",
   "execution_count": 48,
   "id": "b37bae7d-52cf-4aea-917a-a7861d05df94",
   "metadata": {},
   "outputs": [
    {
     "data": {
      "text/plain": [
       "7        95\n",
       "20      100\n",
       "41       65\n",
       "44       54\n",
       "45       88\n",
       "       ... \n",
       "1925     62\n",
       "1940     99\n",
       "1958     88\n",
       "1966     82\n",
       "1984     79\n",
       "Name: math_score, Length: 149, dtype: int64"
      ]
     },
     "execution_count": 48,
     "metadata": {},
     "output_type": "execute_result"
    }
   ],
   "source": [
    "part_time = df[(df['gender']=='male') & (df['part_time_job']==True)]['math_score']\n",
    "part_time"
   ]
  },
  {
   "cell_type": "code",
   "execution_count": 50,
   "id": "86ae2e7c-d164-4a59-a61a-a65a807f1fb0",
   "metadata": {},
   "outputs": [
    {
     "data": {
      "text/plain": [
       "TtestResult(statistic=5.8026672393780085, pvalue=4.3820239750124745e-09, df=996.0)"
      ]
     },
     "execution_count": 50,
     "metadata": {},
     "output_type": "execute_result"
    }
   ],
   "source": [
    "stats.ttest_ind(no_part_time, part_time, alternative='greater')"
   ]
  },
  {
   "cell_type": "markdown",
   "id": "aadd2f00-c087-4e7e-a94e-38319164bb34",
   "metadata": {},
   "source": [
    "### Conclusion:\n",
    "P-Value < 0.05 => We reject Null hypothesis H0 <br> \n",
    "so Ha is true/valid i.e, math_score of no part_time_job male students are greater than part_time_job male\n",
    "students."
   ]
  },
  {
   "cell_type": "markdown",
   "id": "6962565f-e515-468a-9a4c-a6c605fee824",
   "metadata": {},
   "source": [
    "#### Q5\n",
    "The average of history_score is less than geography_score <br>\n",
    "H0: the average of history_score is not less than geography_score <br>\n",
    "Ha: the average of history_score is less than geography_score <br>"
   ]
  },
  {
   "cell_type": "code",
   "execution_count": 54,
   "id": "5a22a6de-55d4-4ac1-9c56-16ee4daddbf7",
   "metadata": {},
   "outputs": [
    {
     "data": {
      "text/plain": [
       "TtestResult(statistic=-1.4412586066465385, pvalue=0.07479497633658547, df=3998.0)"
      ]
     },
     "execution_count": 54,
     "metadata": {},
     "output_type": "execute_result"
    }
   ],
   "source": [
    "stats.ttest_ind(df['history_score'], df['geography_score'], alternative='less')"
   ]
  },
  {
   "cell_type": "markdown",
   "id": "9db716ae-0957-4dcd-9591-e9921b4c6c6f",
   "metadata": {},
   "source": [
    "### Conclusion:\n",
    "P-Value > 0.05 => We cannot reject Null hypothesis H0 <br> \n",
    "so H0 is true/valid i.e, the average of history_score is less than geography_score."
   ]
  },
  {
   "cell_type": "markdown",
   "id": "0f8c9d36-e636-4b17-9a3e-38b24e4d35fa",
   "metadata": {},
   "source": [
    "#### Q6:\n",
    "The average of math_score is greater than biology_score <br>\n",
    "H0: the average of math_score is not greater than biology_score <br>\n",
    "Ha: the average of math_score is greater than biology_score <br>"
   ]
  },
  {
   "cell_type": "code",
   "execution_count": 69,
   "id": "88921306-25ff-4541-bd3e-0b5bfea987c0",
   "metadata": {},
   "outputs": [
    {
     "data": {
      "text/plain": [
       "TtestResult(statistic=9.082620143235266, pvalue=8.146293509285797e-20, df=3998.0)"
      ]
     },
     "execution_count": 69,
     "metadata": {},
     "output_type": "execute_result"
    }
   ],
   "source": [
    "stats.ttest_ind(df['math_score'], df['biology_score'], alternative='greater')"
   ]
  },
  {
   "cell_type": "markdown",
   "id": "a1ff1f72-06b2-42ee-a373-3912547ed535",
   "metadata": {},
   "source": [
    "### Conclusion:\n",
    "P-Value < 0.05 => We reject Null hypothesis H0 <br> \n",
    "so Ha is true/valid i.e, the average of math_score is greater than biology_score."
   ]
  },
  {
   "cell_type": "markdown",
   "id": "71d59c7c-39b4-4959-8cc7-4c6595ac3bb1",
   "metadata": {},
   "source": [
    "#### Q7\n",
    "Weekly_self_study_hours of extracurricular_activities is less than no\r\n",
    "extracurricular_activities <br>\n",
    "H0: weekly_self_study_hours of extracurricular_activitiesis not  less than no\n",
    "extracurricular_activities. <br>\n",
    "Ha: weekly_self_study_hours of extracurricular_activities is less than no\n",
    "extracurricular_activities. <br>."
   ]
  },
  {
   "cell_type": "code",
   "execution_count": 80,
   "id": "c5763e5c-9d0f-4574-88ca-878d94f7838c",
   "metadata": {},
   "outputs": [
    {
     "data": {
      "text/plain": [
       "2       13\n",
       "6       23\n",
       "7       34\n",
       "9       18\n",
       "16      30\n",
       "        ..\n",
       "1973    26\n",
       "1974    11\n",
       "1977     5\n",
       "1992    12\n",
       "1998     5\n",
       "Name: weekly_self_study_hours, Length: 408, dtype: int64"
      ]
     },
     "execution_count": 80,
     "metadata": {},
     "output_type": "execute_result"
    }
   ],
   "source": [
    "extra_curricular = df[df['extracurricular_activities']==True]['weekly_self_study_hours']\n",
    "extra_curricular"
   ]
  },
  {
   "cell_type": "code",
   "execution_count": 82,
   "id": "7f87e675-bd8b-417f-bf1f-fa2969a2ec44",
   "metadata": {},
   "outputs": [
    {
     "data": {
      "text/plain": [
       "0       27\n",
       "1       47\n",
       "3        3\n",
       "4       10\n",
       "5       26\n",
       "        ..\n",
       "1994    19\n",
       "1995    30\n",
       "1996    20\n",
       "1997    14\n",
       "1999    27\n",
       "Name: weekly_self_study_hours, Length: 1592, dtype: int64"
      ]
     },
     "execution_count": 82,
     "metadata": {},
     "output_type": "execute_result"
    }
   ],
   "source": [
    "no_extra_curricular = df[df['extracurricular_activities']==False]['weekly_self_study_hours']\n",
    "no_extra_curricular"
   ]
  },
  {
   "cell_type": "code",
   "execution_count": 84,
   "id": "ea247cbe-a04c-4d95-bbd7-1600c5577439",
   "metadata": {},
   "outputs": [
    {
     "data": {
      "text/plain": [
       "TtestResult(statistic=-2.3506159912870577, pvalue=0.009419553161020007, df=1998.0)"
      ]
     },
     "execution_count": 84,
     "metadata": {},
     "output_type": "execute_result"
    }
   ],
   "source": [
    "stats.ttest_ind(extra_curricular, no_extra_curricular, alternative='less')"
   ]
  },
  {
   "cell_type": "markdown",
   "id": "de91781a-557f-4363-85be-01aaa6053077",
   "metadata": {},
   "source": [
    "### Conclusion:\n",
    "P-Value < 0.05 => We reject Null hypothesis H0 <br> \n",
    "so Ha is true/valid i.e, weekly_self_study_hours of extracurricular_activities is less than no\n",
    "extracurricular_activities."
   ]
  },
  {
   "cell_type": "markdown",
   "id": "d92ad8fb-9cd3-48fb-91e7-2a65970dedc6",
   "metadata": {},
   "source": [
    "#### Q8\n",
    "Absence_days of females are less than males <br>\n",
    "H0: absence_days of females are not less than males <br>\n",
    "Ha: absence_days of females are less than males"
   ]
  },
  {
   "cell_type": "code",
   "execution_count": 89,
   "id": "ba53b1fe-fa3c-4169-a871-dace46bebbb4",
   "metadata": {},
   "outputs": [
    {
     "data": {
      "text/plain": [
       "1        2\n",
       "2        9\n",
       "3        5\n",
       "5        2\n",
       "9        3\n",
       "        ..\n",
       "1987     6\n",
       "1991     4\n",
       "1997     5\n",
       "1998    10\n",
       "1999     5\n",
       "Name: absence_days, Length: 1002, dtype: int64"
      ]
     },
     "execution_count": 89,
     "metadata": {},
     "output_type": "execute_result"
    }
   ],
   "source": [
    "females = df[df['gender']=='female']['absence_days']\n",
    "females"
   ]
  },
  {
   "cell_type": "code",
   "execution_count": 91,
   "id": "a8ab398d-0e08-4154-9d1a-4cd8b62feacc",
   "metadata": {},
   "outputs": [
    {
     "data": {
      "text/plain": [
       "0       3\n",
       "4       5\n",
       "6       3\n",
       "7       2\n",
       "8       6\n",
       "       ..\n",
       "1992    2\n",
       "1993    3\n",
       "1994    1\n",
       "1995    2\n",
       "1996    2\n",
       "Name: absence_days, Length: 998, dtype: int64"
      ]
     },
     "execution_count": 91,
     "metadata": {},
     "output_type": "execute_result"
    }
   ],
   "source": [
    "males = df[df['gender']=='male']['absence_days']\n",
    "males"
   ]
  },
  {
   "cell_type": "code",
   "execution_count": 95,
   "id": "fa579f60-7fd9-424a-afca-3f2affe80c1d",
   "metadata": {},
   "outputs": [
    {
     "data": {
      "text/plain": [
       "TtestResult(statistic=1.3128102331149203, pvalue=0.9053011661354035, df=1998.0)"
      ]
     },
     "execution_count": 95,
     "metadata": {},
     "output_type": "execute_result"
    }
   ],
   "source": [
    "stats.ttest_ind(females, males, alternative='less')"
   ]
  },
  {
   "cell_type": "markdown",
   "id": "43813cd0-3bd0-4924-bc0a-1230ca7d7259",
   "metadata": {},
   "source": [
    "### Conclusion:\n",
    "P-Value > 0.05 => We cannot reject Null hypothesis H0 <br> \n",
    "so H0 is true/valid i.e, absence_days of females are not less than males."
   ]
  },
  {
   "cell_type": "markdown",
   "id": "b9912626",
   "metadata": {},
   "source": [
    "## Q9\n",
    "Is there any Association between gender and career_aspiration. <br>\n",
    "H0: No Association between gender and career aspirations <br>\r\n",
    "Ha Association between gender and career aspirationr"
   ]
  },
  {
   "cell_type": "code",
   "execution_count": 99,
   "id": "9d94fe22-2793-4b20-935e-23f2307243a0",
   "metadata": {},
   "outputs": [
    {
     "data": {
      "text/html": [
       "<div>\n",
       "<style scoped>\n",
       "    .dataframe tbody tr th:only-of-type {\n",
       "        vertical-align: middle;\n",
       "    }\n",
       "\n",
       "    .dataframe tbody tr th {\n",
       "        vertical-align: top;\n",
       "    }\n",
       "\n",
       "    .dataframe thead th {\n",
       "        text-align: right;\n",
       "    }\n",
       "</style>\n",
       "<table border=\"1\" class=\"dataframe\">\n",
       "  <thead>\n",
       "    <tr style=\"text-align: right;\">\n",
       "      <th>gender</th>\n",
       "      <th>female</th>\n",
       "      <th>male</th>\n",
       "      <th>All</th>\n",
       "    </tr>\n",
       "    <tr>\n",
       "      <th>career_aspiration</th>\n",
       "      <th></th>\n",
       "      <th></th>\n",
       "      <th></th>\n",
       "    </tr>\n",
       "  </thead>\n",
       "  <tbody>\n",
       "    <tr>\n",
       "      <th>Accountant</th>\n",
       "      <td>64</td>\n",
       "      <td>62</td>\n",
       "      <td>126</td>\n",
       "    </tr>\n",
       "    <tr>\n",
       "      <th>Artist</th>\n",
       "      <td>42</td>\n",
       "      <td>25</td>\n",
       "      <td>67</td>\n",
       "    </tr>\n",
       "    <tr>\n",
       "      <th>Banker</th>\n",
       "      <td>103</td>\n",
       "      <td>66</td>\n",
       "      <td>169</td>\n",
       "    </tr>\n",
       "    <tr>\n",
       "      <th>Business Owner</th>\n",
       "      <td>164</td>\n",
       "      <td>145</td>\n",
       "      <td>309</td>\n",
       "    </tr>\n",
       "    <tr>\n",
       "      <th>Construction Engineer</th>\n",
       "      <td>0</td>\n",
       "      <td>68</td>\n",
       "      <td>68</td>\n",
       "    </tr>\n",
       "    <tr>\n",
       "      <th>Designer</th>\n",
       "      <td>32</td>\n",
       "      <td>24</td>\n",
       "      <td>56</td>\n",
       "    </tr>\n",
       "    <tr>\n",
       "      <th>Doctor</th>\n",
       "      <td>53</td>\n",
       "      <td>66</td>\n",
       "      <td>119</td>\n",
       "    </tr>\n",
       "    <tr>\n",
       "      <th>Game Developer</th>\n",
       "      <td>31</td>\n",
       "      <td>32</td>\n",
       "      <td>63</td>\n",
       "    </tr>\n",
       "    <tr>\n",
       "      <th>Government Officer</th>\n",
       "      <td>31</td>\n",
       "      <td>30</td>\n",
       "      <td>61</td>\n",
       "    </tr>\n",
       "    <tr>\n",
       "      <th>Lawyer</th>\n",
       "      <td>66</td>\n",
       "      <td>72</td>\n",
       "      <td>138</td>\n",
       "    </tr>\n",
       "    <tr>\n",
       "      <th>Real Estate Developer</th>\n",
       "      <td>45</td>\n",
       "      <td>38</td>\n",
       "      <td>83</td>\n",
       "    </tr>\n",
       "    <tr>\n",
       "      <th>Scientist</th>\n",
       "      <td>19</td>\n",
       "      <td>20</td>\n",
       "      <td>39</td>\n",
       "    </tr>\n",
       "    <tr>\n",
       "      <th>Software Engineer</th>\n",
       "      <td>141</td>\n",
       "      <td>174</td>\n",
       "      <td>315</td>\n",
       "    </tr>\n",
       "    <tr>\n",
       "      <th>Stock Investor</th>\n",
       "      <td>25</td>\n",
       "      <td>48</td>\n",
       "      <td>73</td>\n",
       "    </tr>\n",
       "    <tr>\n",
       "      <th>Teacher</th>\n",
       "      <td>59</td>\n",
       "      <td>0</td>\n",
       "      <td>59</td>\n",
       "    </tr>\n",
       "    <tr>\n",
       "      <th>Unknown</th>\n",
       "      <td>109</td>\n",
       "      <td>114</td>\n",
       "      <td>223</td>\n",
       "    </tr>\n",
       "    <tr>\n",
       "      <th>Writer</th>\n",
       "      <td>18</td>\n",
       "      <td>14</td>\n",
       "      <td>32</td>\n",
       "    </tr>\n",
       "    <tr>\n",
       "      <th>All</th>\n",
       "      <td>1002</td>\n",
       "      <td>998</td>\n",
       "      <td>2000</td>\n",
       "    </tr>\n",
       "  </tbody>\n",
       "</table>\n",
       "</div>"
      ],
      "text/plain": [
       "gender                 female  male   All\n",
       "career_aspiration                        \n",
       "Accountant                 64    62   126\n",
       "Artist                     42    25    67\n",
       "Banker                    103    66   169\n",
       "Business Owner            164   145   309\n",
       "Construction Engineer       0    68    68\n",
       "Designer                   32    24    56\n",
       "Doctor                     53    66   119\n",
       "Game Developer             31    32    63\n",
       "Government Officer         31    30    61\n",
       "Lawyer                     66    72   138\n",
       "Real Estate Developer      45    38    83\n",
       "Scientist                  19    20    39\n",
       "Software Engineer         141   174   315\n",
       "Stock Investor             25    48    73\n",
       "Teacher                    59     0    59\n",
       "Unknown                   109   114   223\n",
       "Writer                     18    14    32\n",
       "All                      1002   998  2000"
      ]
     },
     "execution_count": 99,
     "metadata": {},
     "output_type": "execute_result"
    }
   ],
   "source": [
    "chisqt = pd.crosstab(df['career_aspiration'],df['gender'], margins=True)\n",
    "chisqt"
   ]
  },
  {
   "cell_type": "code",
   "execution_count": 101,
   "id": "373a0c0e-44ed-4368-b41e-f5b663f877f2",
   "metadata": {},
   "outputs": [
    {
     "data": {
      "text/plain": [
       "1.9087221746002932e-17"
      ]
     },
     "execution_count": 101,
     "metadata": {},
     "output_type": "execute_result"
    }
   ],
   "source": [
    "chi2, p, dof, ex = stats.chi2_contingency(chisqt)\n",
    "p"
   ]
  },
  {
   "cell_type": "markdown",
   "id": "41adbd15-6c76-47f8-90e1-71049b390d34",
   "metadata": {},
   "source": [
    "### Conclusion:\n",
    "P-Value < 0.05 => We reject Null hypothesis H0 <br> \n",
    "so Ha is true/valid i.e, There is association between Career Aspirations and Gender."
   ]
  },
  {
   "cell_type": "markdown",
   "id": "0d0e8e85-b583-455e-818a-3ba0987b199e",
   "metadata": {},
   "source": [
    "#### Q10\n",
    "Is there any Association between gender and part_time_job. <br>\n",
    "H0: No association betwwen Part time jobs and Gender. <br>\n",
    "Ha: Association betwwen Part time jobs and Gender."
   ]
  },
  {
   "cell_type": "code",
   "execution_count": 110,
   "id": "ad332d78-0caf-4389-9945-5aa89ffb5fcd",
   "metadata": {},
   "outputs": [
    {
     "data": {
      "text/html": [
       "<div>\n",
       "<style scoped>\n",
       "    .dataframe tbody tr th:only-of-type {\n",
       "        vertical-align: middle;\n",
       "    }\n",
       "\n",
       "    .dataframe tbody tr th {\n",
       "        vertical-align: top;\n",
       "    }\n",
       "\n",
       "    .dataframe thead th {\n",
       "        text-align: right;\n",
       "    }\n",
       "</style>\n",
       "<table border=\"1\" class=\"dataframe\">\n",
       "  <thead>\n",
       "    <tr style=\"text-align: right;\">\n",
       "      <th>gender</th>\n",
       "      <th>female</th>\n",
       "      <th>male</th>\n",
       "      <th>All</th>\n",
       "    </tr>\n",
       "    <tr>\n",
       "      <th>part_time_job</th>\n",
       "      <th></th>\n",
       "      <th></th>\n",
       "      <th></th>\n",
       "    </tr>\n",
       "  </thead>\n",
       "  <tbody>\n",
       "    <tr>\n",
       "      <th>False</th>\n",
       "      <td>835</td>\n",
       "      <td>849</td>\n",
       "      <td>1684</td>\n",
       "    </tr>\n",
       "    <tr>\n",
       "      <th>True</th>\n",
       "      <td>167</td>\n",
       "      <td>149</td>\n",
       "      <td>316</td>\n",
       "    </tr>\n",
       "    <tr>\n",
       "      <th>All</th>\n",
       "      <td>1002</td>\n",
       "      <td>998</td>\n",
       "      <td>2000</td>\n",
       "    </tr>\n",
       "  </tbody>\n",
       "</table>\n",
       "</div>"
      ],
      "text/plain": [
       "gender         female  male   All\n",
       "part_time_job                    \n",
       "False             835   849  1684\n",
       "True              167   149   316\n",
       "All              1002   998  2000"
      ]
     },
     "execution_count": 110,
     "metadata": {},
     "output_type": "execute_result"
    }
   ],
   "source": [
    "chisqt = pd.crosstab(df['part_time_job'],df['gender'], margins=True)\n",
    "chisqt"
   ]
  },
  {
   "cell_type": "code",
   "execution_count": 112,
   "id": "7bd6b4bb",
   "metadata": {},
   "outputs": [
    {
     "data": {
      "text/plain": [
       "0.8888874344046543"
      ]
     },
     "execution_count": 112,
     "metadata": {},
     "output_type": "execute_result"
    }
   ],
   "source": [
    "chi2, p, dof, ex = stats.chi2_contingency(chisqt)\n",
    "p"
   ]
  },
  {
   "cell_type": "markdown",
   "id": "b72ba693-4bec-48d5-8790-7578eef59cb4",
   "metadata": {},
   "source": [
    "### Conclusion:\n",
    "P-Value > 0.05 => We can not reject Null hypothesis H0 <br> \n",
    "so H0 is true/valid i.e, No association betwwen Part time jobs and Gender."
   ]
  },
  {
   "cell_type": "code",
   "execution_count": null,
   "id": "8435c3d2-17b8-4eaf-bf27-bbcc73e87548",
   "metadata": {},
   "outputs": [],
   "source": []
  }
 ],
 "metadata": {
  "kernelspec": {
   "display_name": "Python 3 (ipykernel)",
   "language": "python",
   "name": "python3"
  },
  "language_info": {
   "codemirror_mode": {
    "name": "ipython",
    "version": 3
   },
   "file_extension": ".py",
   "mimetype": "text/x-python",
   "name": "python",
   "nbconvert_exporter": "python",
   "pygments_lexer": "ipython3",
   "version": "3.12.4"
  }
 },
 "nbformat": 4,
 "nbformat_minor": 5
}
